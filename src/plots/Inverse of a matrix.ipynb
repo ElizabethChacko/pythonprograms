{
 "cells": [
  {
   "cell_type": "code",
   "execution_count": 2,
   "id": "906675bc",
   "metadata": {},
   "outputs": [
    {
     "name": "stdout",
     "output_type": "stream",
     "text": [
      "[[2.]\n",
      " [4.]]\n"
     ]
    }
   ],
   "source": [
    "#inverse of the square matrix and matrix solution\n",
    "import numpy as np\n",
    "A=np.array([[4,3],[-5,9]])\n",
    "B=np.array([[20],[26]])\n",
    "Ainv=np.linalg.inv(A)\n",
    "X=Ainv.dot(B)\n",
    "print(X)\n"
   ]
  },
  {
   "cell_type": "code",
   "execution_count": null,
   "id": "5b424ed6",
   "metadata": {},
   "outputs": [],
   "source": []
  }
 ],
 "metadata": {
  "kernelspec": {
   "display_name": "Python 3 (ipykernel)",
   "language": "python",
   "name": "python3"
  },
  "language_info": {
   "codemirror_mode": {
    "name": "ipython",
    "version": 3
   },
   "file_extension": ".py",
   "mimetype": "text/x-python",
   "name": "python",
   "nbconvert_exporter": "python",
   "pygments_lexer": "ipython3",
   "version": "3.11.5"
  }
 },
 "nbformat": 4,
 "nbformat_minor": 5
}
