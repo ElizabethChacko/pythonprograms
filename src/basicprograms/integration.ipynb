{
 "cells": [
  {
   "cell_type": "code",
   "execution_count": 2,
   "id": "a0daa830",
   "metadata": {},
   "outputs": [
    {
     "name": "stdout",
     "output_type": "stream",
     "text": [
      "result of integration is 17.422821100429037\n",
      "error in integration is 1.714416021430898e-11\n"
     ]
    }
   ],
   "source": [
    "#integration\n",
    "from numpy import exp,pi,cos,sin\n",
    "from scipy.integrate import quad\n",
    "def f(x):\n",
    "    return exp(cos(-2*x*pi)*sin(x))+3.2\n",
    "res,err=quad(f,-2,2)\n",
    "print(\"result of integration is\",res)\n",
    "print(\"error in integration is\",err)"
   ]
  },
  {
   "cell_type": "code",
   "execution_count": null,
   "id": "9b14baba",
   "metadata": {},
   "outputs": [],
   "source": []
  },
  {
   "cell_type": "code",
   "execution_count": null,
   "id": "06ef4b76",
   "metadata": {},
   "outputs": [],
   "source": []
  }
 ],
 "metadata": {
  "kernelspec": {
   "display_name": "Python 3 (ipykernel)",
   "language": "python",
   "name": "python3"
  },
  "language_info": {
   "codemirror_mode": {
    "name": "ipython",
    "version": 3
   },
   "file_extension": ".py",
   "mimetype": "text/x-python",
   "name": "python",
   "nbconvert_exporter": "python",
   "pygments_lexer": "ipython3",
   "version": "3.11.5"
  }
 },
 "nbformat": 4,
 "nbformat_minor": 5
}
